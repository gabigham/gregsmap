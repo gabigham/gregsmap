{
 "cells": [
  {
   "cell_type": "code",
   "execution_count": 91,
   "metadata": {},
   "outputs": [],
   "source": [
    "from splinter import Browser\n",
    "from bs4 import BeautifulSoup\n",
    "import pandas as pd\n",
    "from splinter.exceptions import ElementDoesNotExist\n",
    "import re\n",
    "import requests\n",
    "import time\n",
    "from decimal import Decimal\n",
    "from re import sub\n",
    "import geojson\n",
    "import numpy as np"
   ]
  },
  {
   "cell_type": "code",
   "execution_count": 67,
   "metadata": {},
   "outputs": [],
   "source": [
    "executable_path = {'executable_path': '/usr/local/bin/chromedriver'}\n",
    "browser = Browser('chrome', **executable_path, headless=False)"
   ]
  },
  {
   "cell_type": "markdown",
   "metadata": {},
   "source": [
    "## Scrape Craigslist Freestuff"
   ]
  },
  {
   "cell_type": "code",
   "execution_count": 8,
   "metadata": {},
   "outputs": [],
   "source": [
    "# Go to sacramento cl and navigate to 1st item\n",
    "\n",
    "url = \"https://sacramento.craigslist.org/d/free-stuff/search/zip\"\n",
    "browser.visit(url)\n",
    "browser.click_link_by_partial_href('https://sacramento.craigslist.org')\n",
    "time.sleep(2)"
   ]
  },
  {
   "cell_type": "code",
   "execution_count": 11,
   "metadata": {},
   "outputs": [
    {
     "name": "stdout",
     "output_type": "stream",
     "text": [
      "         lat         long                       age                      title\n",
      "1  38.807876  -121.354025  2019-10-27T17:34:04-0700       Free GE Refrigerator\n",
      "2  38.686287  -121.190014  2019-10-27T17:30:33-0700  Free flower window basket\n",
      "3  38.601292  -121.406004  2019-10-27T17:27:20-0700                   TV stand\n"
     ]
    }
   ],
   "source": [
    "# Using Splinter to scrape cl and store data in dataframe stuff (clean up condition)\n",
    "\n",
    "stuff = pd.DataFrame(columns=['lat', 'long','age', 'title'])\n",
    "\n",
    "for x in range(1, 4):\n",
    "    html = browser.html\n",
    "    soup = BeautifulSoup(html, 'html.parser')\n",
    "\n",
    "    title = soup.find(id=\"titletextonly\").text\n",
    "    age = soup.find('time', class_=\"date timeago\")[\"datetime\"]\n",
    "    loc = soup.find(id='map')\n",
    "    lat = loc[\"data-latitude\"]\n",
    "    long = loc[\"data-longitude\"]\n",
    "    \n",
    "    stuff.loc[x] = [lat, long, age, title]\n",
    "    time.sleep(2)\n",
    "    browser.click_link_by_partial_text('next')\n",
    "\n",
    "print(stuff)"
   ]
  },
  {
   "cell_type": "code",
   "execution_count": 82,
   "metadata": {},
   "outputs": [
    {
     "data": {
      "text/html": [
       "<div>\n",
       "<style scoped>\n",
       "    .dataframe tbody tr th:only-of-type {\n",
       "        vertical-align: middle;\n",
       "    }\n",
       "\n",
       "    .dataframe tbody tr th {\n",
       "        vertical-align: top;\n",
       "    }\n",
       "\n",
       "    .dataframe thead th {\n",
       "        text-align: right;\n",
       "    }\n",
       "</style>\n",
       "<table border=\"1\" class=\"dataframe\">\n",
       "  <thead>\n",
       "    <tr style=\"text-align: right;\">\n",
       "      <th></th>\n",
       "      <th>lat</th>\n",
       "      <th>long</th>\n",
       "      <th>elev</th>\n",
       "      <th>title</th>\n",
       "      <th>age</th>\n",
       "    </tr>\n",
       "  </thead>\n",
       "  <tbody>\n",
       "    <tr>\n",
       "      <th>1</th>\n",
       "      <td>38.807876</td>\n",
       "      <td>-121.354025</td>\n",
       "      <td>0</td>\n",
       "      <td>Free GE Refrigerator</td>\n",
       "      <td>2019-10-27T17:34:04-0700</td>\n",
       "    </tr>\n",
       "    <tr>\n",
       "      <th>2</th>\n",
       "      <td>38.686287</td>\n",
       "      <td>-121.190014</td>\n",
       "      <td>0</td>\n",
       "      <td>Free flower window basket</td>\n",
       "      <td>2019-10-27T17:30:33-0700</td>\n",
       "    </tr>\n",
       "    <tr>\n",
       "      <th>3</th>\n",
       "      <td>38.601292</td>\n",
       "      <td>-121.406004</td>\n",
       "      <td>0</td>\n",
       "      <td>TV stand</td>\n",
       "      <td>2019-10-27T17:27:20-0700</td>\n",
       "    </tr>\n",
       "  </tbody>\n",
       "</table>\n",
       "</div>"
      ],
      "text/plain": [
       "         lat        long  elev                      title  \\\n",
       "1  38.807876 -121.354025     0       Free GE Refrigerator   \n",
       "2  38.686287 -121.190014     0  Free flower window basket   \n",
       "3  38.601292 -121.406004     0                   TV stand   \n",
       "\n",
       "                        age  \n",
       "1  2019-10-27T17:34:04-0700  \n",
       "2  2019-10-27T17:30:33-0700  \n",
       "3  2019-10-27T17:27:20-0700  "
      ]
     },
     "execution_count": 82,
     "metadata": {},
     "output_type": "execute_result"
    }
   ],
   "source": [
    "# format for output to geojson\n",
    "\n",
    "stuff[\"lat\"] = pd.to_numeric(stuff[\"lat\"])\n",
    "stuff[\"long\"] = pd.to_numeric(stuff[\"long\"])\n",
    "stuff[\"evel\"] = 1\n",
    "stuff = stuff.reindex(columns=['lat', 'long', 'elev', 'title', 'age'])\n",
    "\n",
    "stuff.head()"
   ]
  },
  {
   "cell_type": "code",
   "execution_count": 8,
   "metadata": {},
   "outputs": [],
   "source": [
    "# (pd.DataFrame.from_dict(data=stuff2, orient='index')\n",
    "  #   .to_csv('stuff.csv', header=False))"
   ]
  },
  {
   "cell_type": "code",
   "execution_count": 60,
   "metadata": {},
   "outputs": [
    {
     "name": "stdout",
     "output_type": "stream",
     "text": [
      "         lat         long                       age  \\\n",
      "1  38.269100  -121.300000  2019-10-07T08:04:28-0700   \n",
      "2  38.787700  -121.236600  2019-10-27T19:17:57-0700   \n",
      "3  38.553900  -121.369300  2019-10-27T19:03:29-0700   \n",
      "\n",
      "                         title  \n",
      "1                   FREE BOATS  \n",
      "2            Fluorescent bulbs  \n",
      "3  Here tonight gone tomorrow!  \n"
     ]
    }
   ],
   "source": [
    "\n",
    "import scrape_cl\n",
    "\n",
    "things = scrape_cl.scrape()\n",
    "print(things)"
   ]
  },
  {
   "cell_type": "code",
   "execution_count": 61,
   "metadata": {},
   "outputs": [],
   "source": [
    "# Go to melissa.com and find zip codes\n",
    "\n",
    "look_up_url = \"https://www.melissa.com/v2/lookups/latlngzip4/\"\n",
    "browser.visit(look_up_url)\n"
   ]
  },
  {
   "cell_type": "code",
   "execution_count": 64,
   "metadata": {},
   "outputs": [
    {
     "data": {
      "text/html": [
       "<div>\n",
       "<style scoped>\n",
       "    .dataframe tbody tr th:only-of-type {\n",
       "        vertical-align: middle;\n",
       "    }\n",
       "\n",
       "    .dataframe tbody tr th {\n",
       "        vertical-align: top;\n",
       "    }\n",
       "\n",
       "    .dataframe thead th {\n",
       "        text-align: right;\n",
       "    }\n",
       "</style>\n",
       "<table border=\"1\" class=\"dataframe\">\n",
       "  <thead>\n",
       "    <tr style=\"text-align: right;\">\n",
       "      <th></th>\n",
       "      <th>lat</th>\n",
       "      <th>long</th>\n",
       "      <th>age</th>\n",
       "      <th>title</th>\n",
       "      <th>zip</th>\n",
       "    </tr>\n",
       "  </thead>\n",
       "  <tbody>\n",
       "    <tr>\n",
       "      <th>1</th>\n",
       "      <td>38.269100</td>\n",
       "      <td>-121.300000</td>\n",
       "      <td>2019-10-07T08:04:28-0700</td>\n",
       "      <td>FREE BOATS</td>\n",
       "      <td>95632</td>\n",
       "    </tr>\n",
       "    <tr>\n",
       "      <th>2</th>\n",
       "      <td>38.787700</td>\n",
       "      <td>-121.236600</td>\n",
       "      <td>2019-10-27T19:17:57-0700</td>\n",
       "      <td>Fluorescent bulbs</td>\n",
       "      <td>95677</td>\n",
       "    </tr>\n",
       "    <tr>\n",
       "      <th>3</th>\n",
       "      <td>38.553900</td>\n",
       "      <td>-121.369300</td>\n",
       "      <td>2019-10-27T19:03:29-0700</td>\n",
       "      <td>Here tonight gone tomorrow!</td>\n",
       "      <td>95826</td>\n",
       "    </tr>\n",
       "  </tbody>\n",
       "</table>\n",
       "</div>"
      ],
      "text/plain": [
       "         lat         long                       age  \\\n",
       "1  38.269100  -121.300000  2019-10-07T08:04:28-0700   \n",
       "2  38.787700  -121.236600  2019-10-27T19:17:57-0700   \n",
       "3  38.553900  -121.369300  2019-10-27T19:03:29-0700   \n",
       "\n",
       "                         title    zip  \n",
       "1                   FREE BOATS  95632  \n",
       "2            Fluorescent bulbs  95677  \n",
       "3  Here tonight gone tomorrow!  95826  "
      ]
     },
     "execution_count": 64,
     "metadata": {},
     "output_type": "execute_result"
    }
   ],
   "source": [
    "zips = []\n",
    "\n",
    "for index, row in things.iterrows():\n",
    "    browser.fill('lat', row['lat'])\n",
    "    browser.fill('lng', row['long'])\n",
    "    browser.find_by_value('Submit').first.click()\n",
    "    element = browser.find_by_css(\"tbody\")\n",
    "    zip_code = element.value.split(\"Postal Code \")[1].split(\"-\")[0]\n",
    "    zips.append(zip_code)\n",
    "    \n",
    "se = pd.Series(zips)\n",
    "things['zip'] = se.values\n",
    "     \n",
    "things.head()"
   ]
  },
  {
   "cell_type": "code",
   "execution_count": 74,
   "metadata": {},
   "outputs": [],
   "source": [
    "inc_data_url = \"https://zipatlas.com/us/ca/sacramento/zip-code-comparison/median-household-income.htm\"\n",
    "\n",
    "browser.visit(inc_data_url)\n",
    "\n",
    "inc_data = browser.find_by_css(\"tbody\")\n",
    "\n",
    "# inc_data.value"
   ]
  },
  {
   "cell_type": "code",
   "execution_count": 78,
   "metadata": {},
   "outputs": [],
   "source": [
    "data_list = inc_data.value.split(\"National Rank\")[1].split(\"28 total\")[0]\n",
    "zips = []\n",
    "incomes = []\n",
    "data_list = data_list.split(\" \")\n",
    "for i in range(1, 28):\n",
    "    zips.append(data_list[8*(i-1)+1])\n",
    "    incomes.append(Decimal(sub(r'[^\\d.]', '', data_list[8*(i-1)+7])))\n",
    "\n",
    "zip_incomes = {\"zip\":zips, \"income\":incomes}\n",
    "zip_inc = pd.DataFrame(zip_incomes)\n",
    "\n",
    "# zip_inc.head()"
   ]
  },
  {
   "cell_type": "code",
   "execution_count": 92,
   "metadata": {},
   "outputs": [
    {
     "data": {
      "text/html": [
       "<div>\n",
       "<style scoped>\n",
       "    .dataframe tbody tr th:only-of-type {\n",
       "        vertical-align: middle;\n",
       "    }\n",
       "\n",
       "    .dataframe tbody tr th {\n",
       "        vertical-align: top;\n",
       "    }\n",
       "\n",
       "    .dataframe thead th {\n",
       "        text-align: right;\n",
       "    }\n",
       "</style>\n",
       "<table border=\"1\" class=\"dataframe\">\n",
       "  <thead>\n",
       "    <tr style=\"text-align: right;\">\n",
       "      <th></th>\n",
       "      <th>lat</th>\n",
       "      <th>long</th>\n",
       "      <th>elev</th>\n",
       "      <th>title</th>\n",
       "      <th>age</th>\n",
       "      <th>zip</th>\n",
       "      <th>incomes</th>\n",
       "    </tr>\n",
       "  </thead>\n",
       "  <tbody>\n",
       "    <tr>\n",
       "      <th>0</th>\n",
       "      <td>38.2691</td>\n",
       "      <td>-121.3000</td>\n",
       "      <td>0</td>\n",
       "      <td>FREE BOATS</td>\n",
       "      <td>2019-10-07T08:04:28-0700</td>\n",
       "      <td>95632</td>\n",
       "      <td></td>\n",
       "    </tr>\n",
       "    <tr>\n",
       "      <th>1</th>\n",
       "      <td>38.7877</td>\n",
       "      <td>-121.2366</td>\n",
       "      <td>0</td>\n",
       "      <td>Fluorescent bulbs</td>\n",
       "      <td>2019-10-27T19:17:57-0700</td>\n",
       "      <td>95677</td>\n",
       "      <td></td>\n",
       "    </tr>\n",
       "    <tr>\n",
       "      <th>2</th>\n",
       "      <td>38.5539</td>\n",
       "      <td>-121.3693</td>\n",
       "      <td>0</td>\n",
       "      <td>Here tonight gone tomorrow!</td>\n",
       "      <td>2019-10-27T19:03:29-0700</td>\n",
       "      <td>95826</td>\n",
       "      <td>42562.00</td>\n",
       "    </tr>\n",
       "  </tbody>\n",
       "</table>\n",
       "</div>"
      ],
      "text/plain": [
       "       lat      long  elev                        title  \\\n",
       "0  38.2691 -121.3000     0                   FREE BOATS   \n",
       "1  38.7877 -121.2366     0            Fluorescent bulbs   \n",
       "2  38.5539 -121.3693     0  Here tonight gone tomorrow!   \n",
       "\n",
       "                        age    zip   incomes  \n",
       "0  2019-10-07T08:04:28-0700  95632            \n",
       "1  2019-10-27T19:17:57-0700  95677            \n",
       "2  2019-10-27T19:03:29-0700  95826  42562.00  "
      ]
     },
     "execution_count": 92,
     "metadata": {},
     "output_type": "execute_result"
    }
   ],
   "source": [
    "data = things.merge(zip_inc,how='left', on='zip')\n",
    "data['elev'] = 0\n",
    "data = data.reindex(columns=['lat', 'long', 'elev', 'title', 'age', 'zip', 'incomes'])\n",
    "data[\"lat\"] = pd.to_numeric(data[\"lat\"])\n",
    "data[\"long\"] = pd.to_numeric(data[\"long\"])\n",
    "data = data.replace(np.nan, '', regex=True)\n",
    "data.head()"
   ]
  },
  {
   "cell_type": "code",
   "execution_count": 89,
   "metadata": {},
   "outputs": [],
   "source": [
    "#define method to create geojson file from dataframe\n",
    "\n",
    "def data2geojson(df):\n",
    "    features = []\n",
    "    insert_features = lambda X: features.append(\n",
    "            geojson.Feature(geometry=geojson.Point((X[\"long\"],\n",
    "                                                    X[\"lat\"], \n",
    "                                                    X[\"elev\"])),\n",
    "                            properties=dict(age=X[\"age\"],\n",
    "                                            title=X[\"title\"],\n",
    "                                            zip_code=X[\"zip\"],\n",
    "                                            income=X[\"incomes\"])))\n",
    "    df.apply(insert_features, axis=1)\n",
    "    with open('static/data/stuff.geojson', 'w', encoding='utf8') as fp:\n",
    "        geojson.dump(geojson.FeatureCollection(features), fp, sort_keys=True, ensure_ascii=False)\n"
   ]
  },
  {
   "cell_type": "code",
   "execution_count": 93,
   "metadata": {},
   "outputs": [],
   "source": [
    "# data2geojson(stuff)\n",
    "\n",
    "data2geojson(data)"
   ]
  },
  {
   "cell_type": "code",
   "execution_count": null,
   "metadata": {},
   "outputs": [],
   "source": []
  },
  {
   "cell_type": "code",
   "execution_count": null,
   "metadata": {},
   "outputs": [],
   "source": []
  },
  {
   "cell_type": "code",
   "execution_count": null,
   "metadata": {},
   "outputs": [],
   "source": []
  }
 ],
 "metadata": {
  "kernelspec": {
   "display_name": "Python 3",
   "language": "python",
   "name": "python3"
  },
  "language_info": {
   "codemirror_mode": {
    "name": "ipython",
    "version": 3
   },
   "file_extension": ".py",
   "mimetype": "text/x-python",
   "name": "python",
   "nbconvert_exporter": "python",
   "pygments_lexer": "ipython3",
   "version": "3.7.3"
  }
 },
 "nbformat": 4,
 "nbformat_minor": 2
}
