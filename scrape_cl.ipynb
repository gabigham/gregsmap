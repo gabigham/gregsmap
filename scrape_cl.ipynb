{
 "cells": [
  {
   "cell_type": "code",
   "execution_count": 50,
   "metadata": {},
   "outputs": [],
   "source": [
    "from splinter import Browser\n",
    "from bs4 import BeautifulSoup\n",
    "import pandas as pd\n",
    "from splinter.exceptions import ElementDoesNotExist\n",
    "import re\n",
    "import requests\n",
    "import time\n",
    "from decimal import Decimal"
   ]
  },
  {
   "cell_type": "code",
   "execution_count": 6,
   "metadata": {},
   "outputs": [],
   "source": [
    "executable_path = {'executable_path': '/usr/local/bin/chromedriver'}\n",
    "browser = Browser('chrome', **executable_path, headless=False)"
   ]
  },
  {
   "cell_type": "markdown",
   "metadata": {},
   "source": [
    "## Scrape Craigslist Freestuff"
   ]
  },
  {
   "cell_type": "code",
   "execution_count": 3,
   "metadata": {},
   "outputs": [],
   "source": [
    "# Go to sacramento cl and navigate to 1st item\n",
    "\n",
    "url = \"https://sacramento.craigslist.org/d/free-stuff/search/zip\"\n",
    "browser.visit(url)\n",
    "browser.click_link_by_partial_href('https://sacramento.craigslist.org')\n",
    "time.sleep(2)"
   ]
  },
  {
   "cell_type": "code",
   "execution_count": 6,
   "metadata": {},
   "outputs": [
    {
     "name": "stdout",
     "output_type": "stream",
     "text": [
      "                 title                       age                  location\n",
      "1  Free business books  2019-10-25T22:02:24-0700  [38.534700, -121.445100]\n",
      "2            2 Pallets  2019-10-20T14:50:57-0700  [38.572461, -121.340218]\n",
      "3    Free baby formula  2019-10-25T21:13:01-0700  [38.689500, -121.447900]\n"
     ]
    }
   ],
   "source": [
    "# Using Splinter to scrape cl and store data in dataframe stuff (clean up condition)\n",
    "\n",
    "stuff = pd.DataFrame(columns=['title','age', 'location'])\n",
    "\n",
    "for x in range(1, 4):\n",
    "    html = browser.html\n",
    "    soup = BeautifulSoup(html, 'html.parser')\n",
    "\n",
    "    title = soup.find(id=\"titletextonly\").text\n",
    "    age = soup.find('time', class_=\"date timeago\")[\"datetime\"]\n",
    "    loc = soup.find(id='map')\n",
    "    coord = [loc[\"data-latitude\"], loc[\"data-longitude\"]]\n",
    "    # condit = soup.find('p', class_=\"attrgroup\")\n",
    "    # cond = ''\n",
    "    # if (condit and condit.b.text): cond = condit.b.text\n",
    "    \n",
    "    stuff.loc[x] = [title, age, coord]\n",
    "    time.sleep(2)\n",
    "    browser.click_link_by_partial_text('next')\n",
    "\n",
    "print(stuff)"
   ]
  },
  {
   "cell_type": "code",
   "execution_count": null,
   "metadata": {},
   "outputs": [],
   "source": [
    "stuff[\"title\"]"
   ]
  },
  {
   "cell_type": "code",
   "execution_count": 7,
   "metadata": {},
   "outputs": [
    {
     "name": "stdout",
     "output_type": "stream",
     "text": [
      "{'title': ['Foam roller', 'Sofa sleeper', 'Desk + hutch', 'Desk + hutch', 'Palm Trees', 'Dishwahser', 'Boxes', 'Aloe verde 1 sq yard  FREE', 'Oak Wood / Firewood / Free', 'FREE pine chest', 'Slider', 'FREE LAZY BOY SOFA - 2 RECLINERS - LOVE SEAT SIZE', 'FREE RV TRAVEL TRAILER', 'Horse manure compost - green', 'FREE scrap metal grill/fryer, other items', 'Free freshwater RV holding tank', \"Children's room fan\", 'Free freshwater RV holding tank', 'Thornless Cactus', 'Desk for free tonight and tomorrow', 'Free dining room old table and chairs', 'Free cal king bed and matches', 'Fireplace', 'FREE BOATS', 'Fire pit', 'Free night stand', 'Antique armoire', 'Free recliner sofa', 'Curb alert free', 'FREE MATTRESSES / box springs - used', 'Tree Watering Stake', 'free passion fruit tree & chili tree', 'Free Reclining Loveseat', 'Prochem truckmount frame', '2 free seats', 'Patio table, planters, emergency lanterns', 'Closet Support Brackets', 'Kenmore washer', \"Thin 3' Long Bamboo Stakes\", 'Fluorescent light bulb', 'Adjustable Spring Rod', 'Retail Cabinets Heavy Duty', 'Free moving boxes', 'Wanted: Used Dog Agility Equipment', 'Cardboard/Wood *FREE* High Quality', 'Cardboard for recycling', 'Free Scrap Metal and Battery Cores', 'Raft and Kiddie pool', 'Old entertainment cabinet', 'Only Headboard Full', 'GOATS / COWS LOVE THIS FEED! Thornless Cactus prunnings', 'GOATS / COWS LOVE THIS FEED! Thornless Cactus prunnings', 'Store display lighted used', 'Car Seat', 'Huge Free Pile midtown', 'Kenmore Refrigerator', 'free toilet with new gaskets and bolts', 'Cobbler Sized Rocks', 'FREE Carpet sample pieces', 'Free wood hutch', 'free goat manure - free', 'Shelving', 'Moving boxes', 'Free Chair/Massage Table', '8 lug Silverado wheels fits 01-10 yrs', 'Tundra Tonneau Cover', 'free dental chairs (4)', 'Working Refrigerator', 'Free geranium cuttings', 'Free', '*** File Cabinet FREE ***', 'FREE: Large Fiberglass Wood Spa Hot Tub Above Ground Pool No Leaks', 'Pallets', 'Dometic 3 way RV fridge.', 'Free \"Cute as a Button\" Love Seat', 'Free TV cabinet', 'FREE SEALY SOFA SLEEPER', 'Pallets - 10 Wooden shipping pallets - free', 'TV Armoire - free', 'Sofa', 'Firewood, kindling material', 'FREE medium boxes.', 'horse manure', 'free parts mirror turn signals', '2016 HONDA FIT PARTS', 'Pallets free', 'firewood', '5th Wheel free', 'Extra long couch, grey pleather, worn', 'Free Power Strips & Cables (Fiber Optic, RCA, iPod, coax splitter)', 'free sleds', 'Free rocks you haul', 'Free love seat', '4x8’ Sheets Old Cruddy Leftover OSB / Plywood Board', 'Free firewood - seasoned - tree stumps', 'FREE!  Fullsize sofa, oversized chair, and ottoman.', 'Perfectly Working Washer and Dryer', 'FREE!  Fullsize sofa, oversized chair, and ottoman.', 'Perfectly Working Washer and Dryer', 'Mulberry firewood'], 'age': ['2019-10-25T21:05:04-0700', '2019-10-25T20:52:16-0700', '2019-10-25T20:49:59-0700', '2019-10-25T20:48:53-0700', '2019-09-28T14:55:41-0700', '2019-10-20T14:42:02-0700', '2019-10-25T20:20:29-0700', '2019-10-25T20:13:19-0700', '2019-10-19T09:47:28-0700', '2019-10-25T19:48:27-0700', '2019-10-25T19:41:54-0700', '2019-10-25T19:19:43-0700', '2019-10-25T19:13:00-0700', '2019-10-13T12:24:42-0700', '2019-10-14T19:57:29-0700', '2019-10-25T18:15:15-0700', '2019-10-20T14:05:35-0700', '2019-10-25T18:06:10-0700', '2019-10-25T17:51:18-0700', '2019-10-25T17:51:00-0700', '2019-10-25T17:46:57-0700', '2019-10-25T17:42:45-0700', '2019-10-25T17:42:24-0700', '2019-10-07T08:04:28-0700', '2019-10-25T17:39:17-0700', '2019-10-25T17:38:30-0700', '2019-10-25T17:30:14-0700', '2019-10-25T17:26:33-0700', '2019-10-19T10:37:54-0700', '2019-10-25T16:49:15-0700', '2019-10-25T16:51:56-0700', '2019-10-25T16:45:22-0700', '2019-10-25T16:34:38-0700', '2019-10-13T18:35:30-0700', '2019-10-25T16:27:36-0700', '2019-10-25T16:27:04-0700', '2019-10-25T16:21:20-0700', '2019-10-25T16:12:44-0700', '2019-10-25T16:12:43-0700', '2019-10-04T18:35:11-0700', '2019-10-18T08:21:28-0700', '2019-10-25T16:01:06-0700', '2019-10-25T15:59:15-0700', '2019-10-25T15:46:24-0700', '2019-10-25T15:20:14-0700', '2019-10-25T15:07:57-0700', '2019-10-25T15:02:43-0700', '2019-10-25T14:58:55-0700', '2019-10-25T14:56:28-0700', '2019-10-25T14:50:59-0700', '2019-10-21T17:23:24-0700', '2019-10-22T12:44:37-0700', '2019-10-25T14:23:56-0700', '2019-10-25T14:15:37-0700', '2019-10-25T14:03:52-0700', '2019-10-25T13:52:57-0700', '2019-10-25T13:51:28-0700', '2019-10-18T18:48:12-0700', '2019-10-25T12:55:39-0700', '2019-10-25T12:53:41-0700', '2019-10-15T09:30:52-0700', '2019-10-25T12:50:50-0700', '2019-10-25T12:50:48-0700', '2019-10-25T12:24:13-0700', '2019-10-21T11:28:21-0700', '2019-10-21T11:23:55-0700', '2019-10-25T12:17:45-0700', '2019-10-25T12:16:33-0700', '2019-10-25T12:04:44-0700', '2019-10-25T12:04:10-0700', '2019-10-25T12:03:27-0700', '2019-10-25T11:29:48-0700', '2019-10-25T11:26:22-0700', '2019-10-25T11:25:26-0700', '2019-10-25T11:26:06-0700', '2019-10-25T11:01:57-0700', '2019-10-13T10:15:30-0700', '2019-10-25T10:37:39-0700', '2019-10-18T11:58:55-0700', '2019-10-25T10:07:14-0700', '2019-10-25T09:56:26-0700', '2019-10-25T09:28:52-0700', '2019-10-15T14:21:30-0700', '2019-10-05T16:13:00-0700', '2019-10-05T16:07:50-0700', '2019-10-20T09:58:54-0700', '2019-10-25T07:56:56-0700', '2019-10-25T07:46:01-0700', '2019-10-25T06:47:32-0700', '2019-10-16T15:53:15-0700', '2019-10-12T13:39:45-0700', '2019-10-25T03:00:10-0700', '2019-10-25T00:23:21-0700', '2019-10-15T22:59:57-0700', '2019-10-22T11:54:10-0700', '2019-10-24T22:40:33-0700', '2019-10-24T22:21:51-0700', '2019-10-24T22:40:33-0700', '2019-10-24T22:21:51-0700', '2019-10-24T21:05:42-0700'], 'coord': [['38.438262', '-121.387424'], ['38.860660', '-121.309834'], ['38.686500', '-121.349400'], ['38.686500', '-121.349400'], ['38.786579', '-121.275072'], ['38.776542', '-121.262455'], ['38.638300', '-121.507200'], ['38.553800', '-121.741800'], ['38.670900', '-121.152900'], ['38.685000', '-121.068000'], ['38.670700', '-121.378100'], ['38.755913', '-121.311250'], ['38.269100', '-121.300000'], ['38.699494', '-121.224089'], ['38.504410', '-121.422369'], ['38.839163', '-121.212760'], ['38.694600', '-121.269200'], ['38.839163', '-121.212760'], ['38.698581', '-121.473160'], ['38.671376', '-121.205769'], ['38.671376', '-121.205769'], ['38.671376', '-121.205769'], ['38.670700', '-121.378100'], ['38.269100', '-121.300000'], ['38.384700', '-121.988700'], ['38.671377', '-121.205769'], ['38.384700', '-121.988700'], ['38.589200', '-121.405700'], ['38.689500', '-121.447900'], ['38.678153', '-121.204293'], ['38.697227', '-121.249816'], ['38.517800', '-121.441900'], ['38.697276', '-121.362645'], ['38.607200', '-121.276100'], ['38.598100', '-121.215300'], ['36.311400', '-119.306500'], ['38.697059', '-121.249774'], ['38.269100', '-121.300000'], ['38.697394', '-121.249945'], ['38.745488', '-121.200314'], ['38.746024', '-121.202545'], ['38.813600', '-121.267700'], ['38.623900', '-121.383700'], ['38.911500', '-121.080000'], ['38.662700', '-121.340600'], ['38.479700', '-121.443800'], ['38.795527', '-121.233530'], ['38.795519', '-121.233369'], ['38.812459', '-121.188769'], ['38.694600', '-121.269200'], ['38.698581', '-121.473160'], ['38.698581', '-121.473160'], ['38.574262', '-121.524711'], ['38.684500', '-121.225600'], ['38.569660', '-121.479499'], ['38.685000', '-121.068000'], ['38.553800', '-121.741800'], ['38.894200', '-121.290800'], ['38.576746', '-121.452080'], ['38.500022', '-121.614532'], ['38.723300', '-121.449700'], ['39.301700', '-120.971700'], ['38.623993', '-121.369253'], ['38.710117', '-121.249254'], ['38.514300', '-121.096400'], ['38.514300', '-121.096400'], ['40.191900', '-120.174600'], ['38.588900', '-121.480873'], ['38.544900', '-121.740500'], ['38.495546', '-121.418478'], ['38.609300', '-121.444300'], ['38.571004', '-121.486802'], ['38.876300', '-121.143000'], ['38.553800', '-121.741800'], ['37.986400', '-122.135000'], ['38.509100', '-121.493500'], ['38.876300', '-121.143000'], ['38.575447', '-121.434826'], ['38.242300', '-122.131400'], ['38.384700', '-121.988700'], ['39.429848', '-120.869694'], ['38.789711', '-121.269358'], ['38.684500', '-121.225600'], ['38.704133', '-121.393948'], ['38.698104', '-121.396523'], ['38.670900', '-121.152900'], ['38.319976', '-122.039652'], ['38.689664', '-120.863686'], ['38.689877', '-121.180246'], ['38.628400', '-121.328700'], ['38.302244', '-122.026219'], ['38.670700', '-121.378100'], ['38.572800', '-121.467500'], ['38.558878', '-121.774178'], ['38.684500', '-121.225600'], ['39.001882', '-121.019481'], ['38.546711', '-121.429133'], ['39.001882', '-121.019481'], ['38.546711', '-121.429133'], ['38.663316', '-121.858077']]}\n"
     ]
    }
   ],
   "source": [
    "stuff2 = {}\n",
    "stuff2[\"title\"] = []\n",
    "stuff2[\"age\"] = []\n",
    "stuff2[\"coord\"] = []\n",
    "\n",
    "for x in range(1, 101):\n",
    "    html = browser.html\n",
    "    soup = BeautifulSoup(html, 'html.parser')\n",
    "\n",
    "    title = soup.find(id=\"titletextonly\").text\n",
    "    age = soup.find('time', class_=\"date timeago\")[\"datetime\"]\n",
    "    loc = soup.find(id='map')\n",
    "    coord = [loc[\"data-latitude\"], loc[\"data-longitude\"]]\n",
    "        # condit = soup.find('p', class_=\"attrgroup\")\n",
    "        # cond = ''\n",
    "        # if (condit and condit.b.text): cond = condit.b.text\n",
    "    \n",
    "    # stuff.loc[x] = [title, age, coord]\n",
    "    stuff2[\"title\"].append(title)\n",
    "    stuff2[\"age\"].append(age)\n",
    "    stuff2[\"coord\"].append(coord)\n",
    "\n",
    "    time.sleep(2)\n",
    "    browser.click_link_by_partial_text('next')\n",
    "    \n",
    "print(stuff2)"
   ]
  },
  {
   "cell_type": "code",
   "execution_count": 8,
   "metadata": {},
   "outputs": [],
   "source": [
    "(pd.DataFrame.from_dict(data=stuff2, orient='index')\n",
    "   .to_csv('stuff.csv', header=False))"
   ]
  },
  {
   "cell_type": "code",
   "execution_count": null,
   "metadata": {},
   "outputs": [],
   "source": []
  },
  {
   "cell_type": "code",
   "execution_count": 4,
   "metadata": {},
   "outputs": [
    {
     "name": "stdout",
     "output_type": "stream",
     "text": [
      "{'title': ['Frigidaire Dryer', 'EXERCISE BENCH', 'Free business books'], 'age': ['2019-10-25T22:43:01-0700', '2019-09-30T11:31:23-0700', '2019-10-25T22:02:24-0700'], 'coord': [['38.610558', '-121.375923'], ['38.424300', '-121.437000'], ['38.534700', '-121.445100']]}\n"
     ]
    }
   ],
   "source": [
    "import scrape_cl\n",
    "\n",
    "things = scrape_cl.scrape()\n",
    "print(things)"
   ]
  },
  {
   "cell_type": "code",
   "execution_count": 29,
   "metadata": {},
   "outputs": [
    {
     "name": "stdout",
     "output_type": "stream",
     "text": [
      "['Address 3801 El Camino Ave\\nCity Sacramento\\nState CA\\n', '95821-6507']\n",
      "['Address 8905 Laguna Springs Way\\nCity Elk Grove\\nState CA\\n', '95758-5312\\nMAK 5244172933\\nPostal Carrier Route R015']\n",
      "['Address 4335 52nd St\\nCity Sacramento\\nState CA\\n', '95820-4131\\nMAK 1373124119\\nPostal Carrier Route C010']\n",
      "['95821', '95758', '95820']\n"
     ]
    }
   ],
   "source": [
    "# Go to melissa.com and find zip codes\n",
    "\n",
    "zips = []\n",
    "\n",
    "look_up_url = \"https://www.melissa.com/v2/lookups/latlngzip4/\"\n",
    "browser.visit(look_up_url)\n",
    "\n",
    "for coords in things['coord']:\n",
    "    browser.fill('lat', coords[0])\n",
    "    browser.fill('lng', coords[1])\n",
    "    browser.find_by_value('Submit').first.click()\n",
    "    element = browser.find_by_css(\"tbody\")\n",
    "    zip_code = element.value.split(\"Postal Code \")[1].split(\"-\")[0]\n",
    "    zips.append(zip_code)\n",
    "    time.sleep(1)\n",
    "    \n",
    "print(zips)"
   ]
  },
  {
   "cell_type": "code",
   "execution_count": 13,
   "metadata": {},
   "outputs": [],
   "source": []
  },
  {
   "cell_type": "code",
   "execution_count": 32,
   "metadata": {},
   "outputs": [
    {
     "data": {
      "text/plain": [
       "'  Database Download\\nMedian Household Income in Sacramento, CA by Zip Code\\nsearch\\nSacramento, CA Report:\\nMedian Household Income\\n$87,622.00\\n$0.00\\nRelated Reports\\nMedian Household Income in California by Zip Code\\nMedian Household Income in California by City\\nMedian Household Income in the United States by Zip Code\\nMedian Household Income in the United States by City\\n# Zip Code Location City Population Avg. Income/H/hold National Rank\\n1. 95837 38.691607, -121.602284 Sacramento, California 254 $87,622.00 #528\\n2. 95829 38.486502, -121.334051 Sacramento, California 11,380 $63,774.00 #2,297\\n3. 95835 38.685069, -121.543709 Sacramento, California 834 $63,611.00 #2,331\\n4. 95864 38.585826, -121.376263 Sacramento, California 23,355 $59,570.00 #3,098\\n5. 95831 38.494832, -121.529447 Sacramento, California 42,821 $57,329.00 #3,521\\n6. 95819 38.567594, -121.437507 Sacramento, California 15,964 $55,811.00 #3,918\\n7. 95830 38.490508, -121.284171 Sacramento, California 580 $53,800.00 #4,460\\n8. 95828 38.486938, -121.395805 Sacramento, California 54,862 $45,137.00 #8,297\\n9. 95833 38.619049, -121.517552 Sacramento, California 31,414 $44,674.00 #8,550\\n10. 95827 38.549185, -121.328386 Sacramento, California 19,599 $42,910.00 #9,608\\n11. 95834 38.646209, -121.524460 Sacramento, California 8,392 $42,890.00 #9,619\\n12. 95826 38.542532, -121.378826 Sacramento, California 38,799 $42,562.00 #9,839\\n13. 95842 38.687367, -121.348480 Sacramento, California 31,369 $40,244.00 #11,901\\n14. 95818 38.556306, -121.495817 Sacramento, California 21,298 $39,412.00 #12,633\\n15. 95823 38.475465, -121.443625 Sacramento, California 72,194 $36,001.00 #16,200\\n16. 95822 38.512569, -121.495184 Sacramento, California 44,678 $35,485.00 #16,885\\n17. 95821 38.625096, -121.383658 Sacramento, California 35,408 $35,453.00 #16,928\\n18. 95816 38.574856, -121.465040 Sacramento, California 16,157 $35,282.00 #17,182\\n19. 95825 38.590035, -121.412455 Sacramento, California 30,708 $35,228.00 #17,241\\n20. 95841 38.660442, -121.346321 Sacramento, California 20,975 $33,918.00 #18,673\\n21. 95820 38.535080, -121.444144 Sacramento, California 37,021 $31,670.00 #21,420\\n22. 95838 38.646096, -121.442433 Sacramento, California 34,879 $31,290.00 #21,910\\n23. 95832 38.445939, -121.496855 Sacramento, California 9,059 $28,598.00 #25,076\\n24. 95824 38.517295, -121.439819 Sacramento, California 30,568 $27,429.00 #26,209\\n25. 95817 38.550722, -121.457314 Sacramento, California 14,963 $26,331.00 #27,242\\n26. 95815 38.608405, -121.449942 Sacramento, California 25,350 $25,970.00 #27,548\\n27. 95814 38.584505, -121.491956 Sacramento, California 16,598 $20,473.00 #30,396\\n28. 95836 38.713213, -121.543696 Sacramento, California 2 $0.00 #31,879\\n1-28 out of 28 total     [  1  ]\\n\\n\\n\\n\\n\\n\\n\\n\\n\\n\\n\\n\\n\\n\\n\\n\\n\\n\\n\\n\\n\\n\\n\\n\\n\\n\\n\\n\\n\\n\\n\\n\\n\\n\\n\\n\\n\\n\\n\\n\\n\\n\\n\\n\\n\\n\\n\\n\\n\\n\\n\\n\\n\\n\\n\\n\\n\\n\\n\\n\\n\\n\\n\\n\\n\\n\\n\\n\\n\\n\\n\\n\\n\\n\\n\\n\\n\\n\\n\\n\\n\\n\\n\\n\\n\\n\\n\\n\\n\\n\\n\\n\\n\\n\\n\\n\\n\\n\\n\\n\\n\\n\\n\\n '"
      ]
     },
     "execution_count": 32,
     "metadata": {},
     "output_type": "execute_result"
    }
   ],
   "source": [
    "inc_data_url = \"https://zipatlas.com/us/ca/sacramento/zip-code-comparison/median-household-income.htm\"\n",
    "\n",
    "browser.visit(inc_data_url)\n",
    "\n",
    "inc_data = browser.find_by_css(\"tbody\")\n",
    "\n",
    "inc_data.value"
   ]
  },
  {
   "cell_type": "code",
   "execution_count": 53,
   "metadata": {},
   "outputs": [
    {
     "ename": "ValueError",
     "evalue": "could not convert string to float: '87,622.00'",
     "output_type": "error",
     "traceback": [
      "\u001b[0;31m------------------------------------------------------------------\u001b[0m",
      "\u001b[0;31mValueError\u001b[0m                       Traceback (most recent call last)",
      "\u001b[0;32m<ipython-input-53-a377d3dc41e8>\u001b[0m in \u001b[0;36m<module>\u001b[0;34m\u001b[0m\n\u001b[1;32m      5\u001b[0m \u001b[0;32mfor\u001b[0m \u001b[0mi\u001b[0m \u001b[0;32min\u001b[0m \u001b[0mrange\u001b[0m\u001b[0;34m(\u001b[0m\u001b[0;36m1\u001b[0m\u001b[0;34m,\u001b[0m \u001b[0;36m28\u001b[0m\u001b[0;34m)\u001b[0m\u001b[0;34m:\u001b[0m\u001b[0;34m\u001b[0m\u001b[0;34m\u001b[0m\u001b[0m\n\u001b[1;32m      6\u001b[0m     \u001b[0mzips\u001b[0m\u001b[0;34m.\u001b[0m\u001b[0mappend\u001b[0m\u001b[0;34m(\u001b[0m\u001b[0mdata_list\u001b[0m\u001b[0;34m[\u001b[0m\u001b[0;36m8\u001b[0m\u001b[0;34m*\u001b[0m\u001b[0;34m(\u001b[0m\u001b[0mi\u001b[0m\u001b[0;34m-\u001b[0m\u001b[0;36m1\u001b[0m\u001b[0;34m)\u001b[0m\u001b[0;34m+\u001b[0m\u001b[0;36m1\u001b[0m\u001b[0;34m]\u001b[0m\u001b[0;34m)\u001b[0m\u001b[0;34m\u001b[0m\u001b[0;34m\u001b[0m\u001b[0m\n\u001b[0;32m----> 7\u001b[0;31m     \u001b[0mincomes\u001b[0m\u001b[0;34m.\u001b[0m\u001b[0mappend\u001b[0m\u001b[0;34m(\u001b[0m\u001b[0mfloat\u001b[0m\u001b[0;34m(\u001b[0m\u001b[0mdata_list\u001b[0m\u001b[0;34m[\u001b[0m\u001b[0;36m8\u001b[0m\u001b[0;34m*\u001b[0m\u001b[0;34m(\u001b[0m\u001b[0mi\u001b[0m\u001b[0;34m-\u001b[0m\u001b[0;36m1\u001b[0m\u001b[0;34m)\u001b[0m\u001b[0;34m+\u001b[0m\u001b[0;36m7\u001b[0m\u001b[0;34m]\u001b[0m\u001b[0;34m.\u001b[0m\u001b[0mstrip\u001b[0m\u001b[0;34m(\u001b[0m\u001b[0;34m'$'\u001b[0m\u001b[0;34m)\u001b[0m\u001b[0;34m.\u001b[0m\u001b[0mstrip\u001b[0m\u001b[0;34m(\u001b[0m\u001b[0;34m','\u001b[0m\u001b[0;34m)\u001b[0m\u001b[0;34m)\u001b[0m\u001b[0;34m)\u001b[0m\u001b[0;34m\u001b[0m\u001b[0;34m\u001b[0m\u001b[0m\n\u001b[0m\u001b[1;32m      8\u001b[0m \u001b[0;34m\u001b[0m\u001b[0m\n\u001b[1;32m      9\u001b[0m \u001b[0mzip_incomes\u001b[0m \u001b[0;34m=\u001b[0m \u001b[0;34m{\u001b[0m\u001b[0;34m\"zip codes\"\u001b[0m\u001b[0;34m:\u001b[0m\u001b[0mzips\u001b[0m\u001b[0;34m,\u001b[0m \u001b[0;34m\"incomes\"\u001b[0m\u001b[0;34m:\u001b[0m\u001b[0mincomes\u001b[0m\u001b[0;34m}\u001b[0m\u001b[0;34m\u001b[0m\u001b[0;34m\u001b[0m\u001b[0m\n",
      "\u001b[0;31mValueError\u001b[0m: could not convert string to float: '87,622.00'"
     ]
    }
   ],
   "source": [
    "data_list = inc_data.value.split(\"National Rank\")[1].split(\"28 total\")[0]\n",
    "zips = []\n",
    "incomes = []\n",
    "data_list = data_list.split(\" \")\n",
    "for i in range(1, 28):\n",
    "    zips.append(data_list[8*(i-1)+1])\n",
    "    incomes.append(float(data_list[8*(i-1)+7].strip('$').strip(',')))\n",
    "\n",
    "zip_incomes = {\"zip codes\":zips, \"incomes\":incomes}\n",
    "zip_incomes\n",
    "df = pd.DataFrame(zip_incomes)\n",
    "df.columns\n",
    "\n"
   ]
  },
  {
   "cell_type": "code",
   "execution_count": null,
   "metadata": {},
   "outputs": [],
   "source": []
  }
 ],
 "metadata": {
  "kernelspec": {
   "display_name": "Python 3",
   "language": "python",
   "name": "python3"
  },
  "language_info": {
   "codemirror_mode": {
    "name": "ipython",
    "version": 3
   },
   "file_extension": ".py",
   "mimetype": "text/x-python",
   "name": "python",
   "nbconvert_exporter": "python",
   "pygments_lexer": "ipython3",
   "version": "3.7.3"
  }
 },
 "nbformat": 4,
 "nbformat_minor": 2
}
