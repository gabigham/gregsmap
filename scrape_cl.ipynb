{
 "cells": [
  {
   "cell_type": "code",
   "execution_count": 49,
   "metadata": {},
   "outputs": [],
   "source": [
    "from splinter import Browser\n",
    "from bs4 import BeautifulSoup\n",
    "import pandas as pd\n",
    "from splinter.exceptions import ElementDoesNotExist\n",
    "import re\n",
    "import requests"
   ]
  },
  {
   "cell_type": "code",
   "execution_count": 50,
   "metadata": {},
   "outputs": [],
   "source": [
    "executable_path = {'executable_path': '/usr/local/bin/chromedriver'}\n",
    "browser = Browser('chrome', **executable_path, headless=False)"
   ]
  },
  {
   "cell_type": "markdown",
   "metadata": {},
   "source": [
    "## Scrape Craigslist Freestuff"
   ]
  },
  {
   "cell_type": "code",
   "execution_count": 53,
   "metadata": {},
   "outputs": [],
   "source": [
    "# Go to sacramento cl and navigate to 1st item\n",
    "\n",
    "url = \"https://sacramento.craigslist.org/d/free-stuff/search/zip\"\n",
    "response = requests.get(url)\n",
    "soup = BeautifulSoup(response.text, 'html.parser')\n",
    "first_result = soup.find('li', class_=\"result-row\")\n",
    "browser.visit(first_result.a['href'])"
   ]
  },
  {
   "cell_type": "code",
   "execution_count": 54,
   "metadata": {},
   "outputs": [
    {
     "name": "stdout",
     "output_type": "stream",
     "text": [
      "                               title                       age  \\\n",
      "1  Free- 7 - 9 feet of aluminum duct  2019-10-19T12:44:10-0700   \n",
      "2                          bookshelf  2019-10-19T12:41:40-0700   \n",
      "3                  Wood stove Insert  2019-10-19T12:34:55-0700   \n",
      "\n",
      "                   location condition  \n",
      "1  [38.568300, -121.436600]            \n",
      "2  [38.568300, -121.436600]      good  \n",
      "3  [38.924326, -121.054562]            \n"
     ]
    }
   ],
   "source": [
    "# Using Splinter to scrape cl and store data in dataframe stuff (clean up condition)\n",
    "\n",
    "stuff = pd.DataFrame(columns=['title','age', 'location', 'condition'])\n",
    "\n",
    "for x in range(1, 4):\n",
    "    html = browser.html\n",
    "    soup = BeautifulSoup(html, 'html.parser')\n",
    "\n",
    "    title = soup.find(id=\"titletextonly\").text\n",
    "    age = soup.find('time', class_=\"date timeago\")[\"datetime\"]\n",
    "    loc = soup.find(id='map')\n",
    "    coord = [loc[\"data-latitude\"], loc[\"data-longitude\"]]\n",
    "    condit = soup.find('p', class_=\"attrgroup\")\n",
    "    cond = ''\n",
    "    if (condit): cond = condit.b.text\n",
    "    \n",
    "    stuff.loc[x] = [title, age, coord, cond]\n",
    "    browser.click_link_by_partial_text('next')\n",
    "\n",
    "print(stuff)"
   ]
  },
  {
   "cell_type": "code",
   "execution_count": null,
   "metadata": {},
   "outputs": [],
   "source": []
  },
  {
   "cell_type": "code",
   "execution_count": null,
   "metadata": {},
   "outputs": [],
   "source": []
  },
  {
   "cell_type": "code",
   "execution_count": null,
   "metadata": {},
   "outputs": [],
   "source": []
  },
  {
   "cell_type": "code",
   "execution_count": null,
   "metadata": {},
   "outputs": [],
   "source": []
  }
 ],
 "metadata": {
  "kernelspec": {
   "display_name": "Python 3",
   "language": "python",
   "name": "python3"
  },
  "language_info": {
   "codemirror_mode": {
    "name": "ipython",
    "version": 3
   },
   "file_extension": ".py",
   "mimetype": "text/x-python",
   "name": "python",
   "nbconvert_exporter": "python",
   "pygments_lexer": "ipython3",
   "version": "3.6.8"
  }
 },
 "nbformat": 4,
 "nbformat_minor": 2
}
